{
 "cells": [
  {
   "cell_type": "code",
   "execution_count": null,
   "id": "bf64b9b1-422a-4360-95fb-b96229c24a58",
   "metadata": {},
   "outputs": [],
   "source": [
    "import numpy as np"
   ]
  },
  {
   "cell_type": "code",
   "execution_count": null,
   "id": "85d52257-6852-4ca7-8ed5-0ef947a2f63d",
   "metadata": {},
   "outputs": [],
   "source": [
    "#creation de tableau\n",
    "tab_1D = np.array([,2,,4,6,8,10,12,14])"
   ]
  },
  {
   "cell_type": "code",
   "execution_count": 1,
   "id": "adb8624a-49c8-4799-8525-637ea0b64f5c",
   "metadata": {},
   "outputs": [
    {
     "ename": "NameError",
     "evalue": "name 'tab_1D' is not defined",
     "output_type": "error",
     "traceback": [
      "\u001b[1;31m---------------------------------------------------------------------------\u001b[0m",
      "\u001b[1;31mNameError\u001b[0m                                 Traceback (most recent call last)",
      "Cell \u001b[1;32mIn[1], line 1\u001b[0m\n\u001b[1;32m----> 1\u001b[0m \u001b[43mtab_1D\u001b[49m\n",
      "\u001b[1;31mNameError\u001b[0m: name 'tab_1D' is not defined"
     ]
    }
   ],
   "source": [
    "tab_1D"
   ]
  },
  {
   "cell_type": "code",
   "execution_count": null,
   "id": "3356b892-3de0-4620-a2d2-0421c9775f9e",
   "metadata": {},
   "outputs": [],
   "source": []
  },
  {
   "cell_type": "code",
   "execution_count": null,
   "id": "6e15167c-1170-4699-bcbe-ceca81542925",
   "metadata": {},
   "outputs": [],
   "source": []
  },
  {
   "cell_type": "code",
   "execution_count": null,
   "id": "cc453727-3e1a-4a42-868b-fe132f00bc23",
   "metadata": {},
   "outputs": [],
   "source": []
  },
  {
   "cell_type": "code",
   "execution_count": null,
   "id": "21d3f2e7-9b67-4edd-a0cd-957e71c8e8dc",
   "metadata": {},
   "outputs": [],
   "source": []
  },
  {
   "cell_type": "code",
   "execution_count": null,
   "id": "4f57225d-5048-40f9-95bc-34bb2269a23f",
   "metadata": {},
   "outputs": [],
   "source": []
  },
  {
   "cell_type": "code",
   "execution_count": null,
   "id": "c924a05b-71f1-4047-8c1c-29223f483118",
   "metadata": {},
   "outputs": [],
   "source": []
  },
  {
   "cell_type": "code",
   "execution_count": null,
   "id": "47a12404-f0b6-4fe0-a04f-f931a69dce6f",
   "metadata": {},
   "outputs": [],
   "source": []
  },
  {
   "cell_type": "code",
   "execution_count": null,
   "id": "821b454f-8e5a-46d5-a271-95ddcc9596c1",
   "metadata": {},
   "outputs": [],
   "source": []
  },
  {
   "cell_type": "code",
   "execution_count": null,
   "id": "ea3a65e6-82ee-417e-beda-7788b2ee8b8c",
   "metadata": {},
   "outputs": [],
   "source": []
  },
  {
   "cell_type": "raw",
   "id": "dee3b433-34fc-45a1-b242-8f1921faaee8",
   "metadata": {},
   "source": []
  }
 ],
 "metadata": {
  "kernelspec": {
   "display_name": "Python 3 (ipykernel)",
   "language": "python",
   "name": "python3"
  },
  "language_info": {
   "codemirror_mode": {
    "name": "ipython",
    "version": 3
   },
   "file_extension": ".py",
   "mimetype": "text/x-python",
   "name": "python",
   "nbconvert_exporter": "python",
   "pygments_lexer": "ipython3",
   "version": "3.10.16"
  }
 },
 "nbformat": 4,
 "nbformat_minor": 5
}
